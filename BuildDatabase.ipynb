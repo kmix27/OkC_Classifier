{
 "cells": [
  {
   "cell_type": "code",
   "execution_count": 2,
   "metadata": {
    "collapsed": true
   },
   "outputs": [],
   "source": [
    "import pandas as pd\n",
    "import sqlalchemy as sq\n",
    "import numpy as np"
   ]
  },
  {
   "cell_type": "markdown",
   "metadata": {},
   "source": [
    "Create a connection to the database. This will eventually create a .db file in the directory of the notebook once we write something to the connection."
   ]
  },
  {
   "cell_type": "code",
   "execution_count": 33,
   "metadata": {
    "collapsed": false
   },
   "outputs": [],
   "source": [
    "engine = sq.create_engine('sqlite:///OKCdatabase.db')"
   ]
  },
  {
   "cell_type": "markdown",
   "metadata": {},
   "source": [
    "Load the dataframes"
   ]
  },
  {
   "cell_type": "code",
   "execution_count": 3,
   "metadata": {
    "collapsed": false
   },
   "outputs": [
    {
     "data": {
      "text/html": [
       "<div>\n",
       "<table border=\"1\" class=\"dataframe\">\n",
       "  <thead>\n",
       "    <tr style=\"text-align: right;\">\n",
       "      <th></th>\n",
       "      <th>q2</th>\n",
       "      <th>q11</th>\n",
       "      <th>q12</th>\n",
       "      <th>q13</th>\n",
       "      <th>q14</th>\n",
       "      <th>q16</th>\n",
       "      <th>q17</th>\n",
       "      <th>q18</th>\n",
       "      <th>q20</th>\n",
       "      <th>q22</th>\n",
       "      <th>...</th>\n",
       "      <th>q86364</th>\n",
       "      <th>q86397</th>\n",
       "      <th>q86462</th>\n",
       "      <th>q86615</th>\n",
       "      <th>q86699</th>\n",
       "      <th>q363047</th>\n",
       "      <th>CA</th>\n",
       "      <th>gender_orientation</th>\n",
       "      <th>gender</th>\n",
       "      <th>race</th>\n",
       "    </tr>\n",
       "  </thead>\n",
       "  <tbody>\n",
       "    <tr>\n",
       "      <th>0</th>\n",
       "      <td>NaN</td>\n",
       "      <td>Horrified</td>\n",
       "      <td>NaN</td>\n",
       "      <td>NaN</td>\n",
       "      <td>NaN</td>\n",
       "      <td>NaN</td>\n",
       "      <td>No</td>\n",
       "      <td>NaN</td>\n",
       "      <td>NaN</td>\n",
       "      <td>NaN</td>\n",
       "      <td>...</td>\n",
       "      <td>NaN</td>\n",
       "      <td>NaN</td>\n",
       "      <td>NaN</td>\n",
       "      <td>NaN</td>\n",
       "      <td>NaN</td>\n",
       "      <td>NaN</td>\n",
       "      <td>0.571282953049484</td>\n",
       "      <td>Hetero_female</td>\n",
       "      <td>Woman</td>\n",
       "      <td>White</td>\n",
       "    </tr>\n",
       "    <tr>\n",
       "      <th>1</th>\n",
       "      <td>NaN</td>\n",
       "      <td>NaN</td>\n",
       "      <td>NaN</td>\n",
       "      <td>NaN</td>\n",
       "      <td>NaN</td>\n",
       "      <td>NaN</td>\n",
       "      <td>NaN</td>\n",
       "      <td>NaN</td>\n",
       "      <td>NaN</td>\n",
       "      <td>NaN</td>\n",
       "      <td>...</td>\n",
       "      <td>NaN</td>\n",
       "      <td>NaN</td>\n",
       "      <td>NaN</td>\n",
       "      <td>NaN</td>\n",
       "      <td>NaN</td>\n",
       "      <td>NaN</td>\n",
       "      <td>NaN</td>\n",
       "      <td>Hetero_male</td>\n",
       "      <td>Man</td>\n",
       "      <td>NaN</td>\n",
       "    </tr>\n",
       "    <tr>\n",
       "      <th>2</th>\n",
       "      <td>NaN</td>\n",
       "      <td>NaN</td>\n",
       "      <td>NaN</td>\n",
       "      <td>No</td>\n",
       "      <td>No</td>\n",
       "      <td>NaN</td>\n",
       "      <td>No</td>\n",
       "      <td>NaN</td>\n",
       "      <td>NaN</td>\n",
       "      <td>NaN</td>\n",
       "      <td>...</td>\n",
       "      <td>NaN</td>\n",
       "      <td>NaN</td>\n",
       "      <td>NaN</td>\n",
       "      <td>NaN</td>\n",
       "      <td>NaN</td>\n",
       "      <td>NaN</td>\n",
       "      <td>1.01226429848596</td>\n",
       "      <td>Hetero_female</td>\n",
       "      <td>Woman</td>\n",
       "      <td>NaN</td>\n",
       "    </tr>\n",
       "    <tr>\n",
       "      <th>3</th>\n",
       "      <td>NaN</td>\n",
       "      <td>NaN</td>\n",
       "      <td>NaN</td>\n",
       "      <td>NaN</td>\n",
       "      <td>NaN</td>\n",
       "      <td>NaN</td>\n",
       "      <td>NaN</td>\n",
       "      <td>NaN</td>\n",
       "      <td>NaN</td>\n",
       "      <td>NaN</td>\n",
       "      <td>...</td>\n",
       "      <td>NaN</td>\n",
       "      <td>NaN</td>\n",
       "      <td>NaN</td>\n",
       "      <td>NaN</td>\n",
       "      <td>NaN</td>\n",
       "      <td>NaN</td>\n",
       "      <td>NaN</td>\n",
       "      <td>Hetero_female</td>\n",
       "      <td>Woman</td>\n",
       "      <td>White</td>\n",
       "    </tr>\n",
       "    <tr>\n",
       "      <th>4</th>\n",
       "      <td>NaN</td>\n",
       "      <td>NaN</td>\n",
       "      <td>NaN</td>\n",
       "      <td>NaN</td>\n",
       "      <td>NaN</td>\n",
       "      <td>NaN</td>\n",
       "      <td>NaN</td>\n",
       "      <td>NaN</td>\n",
       "      <td>NaN</td>\n",
       "      <td>NaN</td>\n",
       "      <td>...</td>\n",
       "      <td>NaN</td>\n",
       "      <td>NaN</td>\n",
       "      <td>NaN</td>\n",
       "      <td>NaN</td>\n",
       "      <td>NaN</td>\n",
       "      <td>NaN</td>\n",
       "      <td>0.418363901130365</td>\n",
       "      <td>Bisexual_female</td>\n",
       "      <td>Woman</td>\n",
       "      <td>NaN</td>\n",
       "    </tr>\n",
       "  </tbody>\n",
       "</table>\n",
       "<p>5 rows × 2622 columns</p>\n",
       "</div>"
      ],
      "text/plain": [
       "    q2        q11  q12  q13  q14  q16  q17  q18  q20  q22  ...   q86364  \\\n",
       "0  NaN  Horrified  NaN  NaN  NaN  NaN   No  NaN  NaN  NaN  ...      NaN   \n",
       "1  NaN        NaN  NaN  NaN  NaN  NaN  NaN  NaN  NaN  NaN  ...      NaN   \n",
       "2  NaN        NaN  NaN   No   No  NaN   No  NaN  NaN  NaN  ...      NaN   \n",
       "3  NaN        NaN  NaN  NaN  NaN  NaN  NaN  NaN  NaN  NaN  ...      NaN   \n",
       "4  NaN        NaN  NaN  NaN  NaN  NaN  NaN  NaN  NaN  NaN  ...      NaN   \n",
       "\n",
       "  q86397 q86462 q86615 q86699 q363047                 CA gender_orientation  \\\n",
       "0    NaN    NaN    NaN    NaN     NaN  0.571282953049484      Hetero_female   \n",
       "1    NaN    NaN    NaN    NaN     NaN                NaN        Hetero_male   \n",
       "2    NaN    NaN    NaN    NaN     NaN   1.01226429848596      Hetero_female   \n",
       "3    NaN    NaN    NaN    NaN     NaN                NaN      Hetero_female   \n",
       "4    NaN    NaN    NaN    NaN     NaN  0.418363901130365    Bisexual_female   \n",
       "\n",
       "  gender   race  \n",
       "0  Woman  White  \n",
       "1    Man    NaN  \n",
       "2  Woman    NaN  \n",
       "3  Woman  White  \n",
       "4  Woman    NaN  \n",
       "\n",
       "[5 rows x 2622 columns]"
      ]
     },
     "execution_count": 3,
     "metadata": {},
     "output_type": "execute_result"
    }
   ],
   "source": [
    "#main dataframe of user answers\n",
    "df_main = pd.read_csv('data/user_data_public.csv',index_col=None, dtype=str)\n",
    "df_main.head()"
   ]
  },
  {
   "cell_type": "code",
   "execution_count": 35,
   "metadata": {
    "collapsed": false
   },
   "outputs": [],
   "source": [
    "# add userID to main\n",
    "df_main['userID'] = np.arange(1, df_main.shape[0]+1)"
   ]
  },
  {
   "cell_type": "code",
   "execution_count": 10,
   "metadata": {
    "collapsed": false
   },
   "outputs": [
    {
     "data": {
      "text/plain": [
       "count                 68371\n",
       "unique                    4\n",
       "top       Never - Get a job\n",
       "freq                  37271\n",
       "Name: q34113, dtype: object"
      ]
     },
     "execution_count": 10,
     "metadata": {},
     "output_type": "execute_result"
    }
   ],
   "source": [
    "df_main.q34113.describe()"
   ]
  },
  {
   "cell_type": "code",
   "execution_count": 36,
   "metadata": {
    "collapsed": false
   },
   "outputs": [],
   "source": [
    "#dataframe of general questions\n",
    "df_qs = pd.read_csv('question_data.csv',sep=';',index_col=None)\n",
    "df_qs = df_qs.sort_values('N',ascending=False);"
   ]
  },
  {
   "cell_type": "code",
   "execution_count": 37,
   "metadata": {
    "collapsed": true
   },
   "outputs": [],
   "source": [
    "#dataframe of cognitive test questions\n",
    "df_ts = pd.read_csv('test_items.csv',index_col=None)"
   ]
  },
  {
   "cell_type": "markdown",
   "metadata": {},
   "source": [
    "Examining the questions set, we see that there are 5 types of questions:\n",
    "\n",
    "1. Personality questions, denoted by columns named qXXX (where X is numeric)\n",
    "2. Test questions, also denoted by columns named qXXX\n",
    "3. User's match preferences, denoted by columns named lf_ZZZZ (where Z is alphabetic)\n",
    "4. User attributes, denoted by columns named d_ZZZZ\n",
    "5. OKC personality scale scores, denoted by columns named p_ZZZZ\n",
    "\n",
    "Since different question types have different kinds of answers, we will break the main table into 5 smaller tables"
   ]
  },
  {
   "cell_type": "code",
   "execution_count": 38,
   "metadata": {
    "collapsed": true
   },
   "outputs": [],
   "source": [
    "#list of all of the question headers (sorted by number of responses):\n",
    "headers_all = list(df_qs.iloc[:,0])\n",
    "#list of headers that starts with q\n",
    "headers_q = [name for name in headers_all if (name[0] == 'q')]\n",
    "#list of headers that starts with If\n",
    "headers_lf = [name for name in headers_all if (name[0] == 'l')]\n",
    "#list of headers that starts with d\n",
    "headers_d = [name for name in headers_all if (name[0] == 'd')]\n",
    "#list of headers that starts with p\n",
    "headers_p = [name for name in headers_all if (name[0] == 'p')]\n",
    "#list of cognitive test question headers\n",
    "headers_ts = list(df_ts.iloc[:,0])\n",
    "#list of non-cognitive test question headers\n",
    "headers_qns = [name for name in headers_q if (name not in headers_ts)]"
   ]
  },
  {
   "cell_type": "code",
   "execution_count": 39,
   "metadata": {
    "collapsed": false
   },
   "outputs": [],
   "source": [
    "#OKC Personality Scores Table:\n",
    "tab_per = df_main.loc[:,headers_p]"
   ]
  },
  {
   "cell_type": "code",
   "execution_count": 40,
   "metadata": {
    "collapsed": true
   },
   "outputs": [],
   "source": [
    "#User Attributes Table:\n",
    "tab_att = df_main.loc[:,headers_d]"
   ]
  },
  {
   "cell_type": "code",
   "execution_count": 41,
   "metadata": {
    "collapsed": true
   },
   "outputs": [],
   "source": [
    "#User Match Preferences Table:\n",
    "tab_prf = df_main.loc[:,headers_lf]"
   ]
  },
  {
   "cell_type": "code",
   "execution_count": 42,
   "metadata": {
    "collapsed": false
   },
   "outputs": [],
   "source": [
    "#Test Questions Table:\n",
    "tab_tst = df_main.loc[:,headers_ts]"
   ]
  },
  {
   "cell_type": "markdown",
   "metadata": {},
   "source": [
    "The table to store other questions need to be broken up into smaller chunks. We'll just store the top 1000 in 5 tables, and use the first one for our MVP. We can add more features to [possibly] improve the model scores afterwards. "
   ]
  },
  {
   "cell_type": "code",
   "execution_count": 43,
   "metadata": {
    "collapsed": false
   },
   "outputs": [],
   "source": [
    "#Other Questions Table (top 200):\n",
    "tab_qn1 = df_main.loc[:,headers_qns[0:200]]"
   ]
  },
  {
   "cell_type": "code",
   "execution_count": 44,
   "metadata": {
    "collapsed": true
   },
   "outputs": [],
   "source": [
    "#Other Questions Table (200-400):\n",
    "tab_qn2 = df_main.loc[:,headers_qns[200:400]]"
   ]
  },
  {
   "cell_type": "code",
   "execution_count": 45,
   "metadata": {
    "collapsed": true
   },
   "outputs": [],
   "source": [
    "#Other Questions Table (400-600):\n",
    "tab_qn3 = df_main.loc[:,headers_qns[400:600]]"
   ]
  },
  {
   "cell_type": "code",
   "execution_count": 46,
   "metadata": {
    "collapsed": true
   },
   "outputs": [],
   "source": [
    "#Other Questions Table (600-800):\n",
    "tab_qn4 = df_main.loc[:,headers_qns[600:800]]"
   ]
  },
  {
   "cell_type": "code",
   "execution_count": 47,
   "metadata": {
    "collapsed": true
   },
   "outputs": [],
   "source": [
    "#Other Questions Table (800-1000):\n",
    "tab_qn5 = df_main.loc[:,headers_qns[800:1000]]"
   ]
  },
  {
   "cell_type": "markdown",
   "metadata": {},
   "source": [
    "Table for the 2 questions keys tables"
   ]
  },
  {
   "cell_type": "code",
   "execution_count": 48,
   "metadata": {
    "collapsed": false
   },
   "outputs": [],
   "source": [
    "#Test Questions Key Table:\n",
    "tab_keyq = df_qs\n",
    "#Other Questions Key Table:\n",
    "tab_keyt = df_ts"
   ]
  },
  {
   "cell_type": "code",
   "execution_count": 49,
   "metadata": {
    "collapsed": true
   },
   "outputs": [],
   "source": [
    "#Cognitive Score Table\n",
    "tab_CA = df_main.CA"
   ]
  },
  {
   "cell_type": "code",
   "execution_count": 50,
   "metadata": {
    "collapsed": false
   },
   "outputs": [
    {
     "name": "stderr",
     "output_type": "stream",
     "text": [
      "/Users/kylemix/anaconda/lib/python3.5/site-packages/ipykernel/__main__.py:2: SettingWithCopyWarning: \n",
      "A value is trying to be set on a copy of a slice from a DataFrame\n",
      "\n",
      "See the caveats in the documentation: http://pandas.pydata.org/pandas-docs/stable/indexing.html#indexing-view-versus-copy\n",
      "  from ipykernel import kernelapp as app\n"
     ]
    }
   ],
   "source": [
    "# add userID to all derrived tabels before creating DB\n",
    "tab_CA['userID'] = np.arange(1, tab_CA.shape[0]+1)\n",
    "tab_per['userID'] = np.arange(1, tab_per.shape[0]+1)\n",
    "tab_prf['userID'] = np.arange(1, tab_prf.shape[0]+1)\n",
    "tab_att['userID'] = np.arange(1, tab_att.shape[0]+1)\n",
    "tab_tst['userID'] = np.arange(1, tab_tst.shape[0]+1)\n",
    "tab_qn1['userID'] = np.arange(1, tab_qn1.shape[0]+1)\n",
    "tab_qn2['userID'] = np.arange(1, tab_qn2.shape[0]+1)\n",
    "tab_qn3['userID'] = np.arange(1, tab_qn3.shape[0]+1)\n",
    "tab_qn4['userID'] = np.arange(1, tab_qn4.shape[0]+1)\n",
    "tab_qn5['userID'] = np.arange(1, tab_qn5.shape[0]+1)"
   ]
  },
  {
   "cell_type": "code",
   "execution_count": 51,
   "metadata": {
    "collapsed": false
   },
   "outputs": [
    {
     "data": {
      "text/plain": [
       "(68371, 29)"
      ]
     },
     "execution_count": 51,
     "metadata": {},
     "output_type": "execute_result"
    }
   ],
   "source": [
    "tab_tst.shape"
   ]
  },
  {
   "cell_type": "markdown",
   "metadata": {},
   "source": [
    "Now we write these tables into the SQL database connection set up by the 'create_engine' statement"
   ]
  },
  {
   "cell_type": "code",
   "execution_count": 52,
   "metadata": {
    "collapsed": false
   },
   "outputs": [],
   "source": [
    "tab_per.to_sql('personality_scores',engine,index=False)"
   ]
  },
  {
   "cell_type": "code",
   "execution_count": 53,
   "metadata": {
    "collapsed": false
   },
   "outputs": [],
   "source": [
    "tab_CA.to_sql('cognitive_scores',engine,index=False)"
   ]
  },
  {
   "cell_type": "code",
   "execution_count": 54,
   "metadata": {
    "collapsed": true
   },
   "outputs": [],
   "source": [
    "tab_att.to_sql('user_info',engine,index=False)"
   ]
  },
  {
   "cell_type": "code",
   "execution_count": 55,
   "metadata": {
    "collapsed": true
   },
   "outputs": [],
   "source": [
    "tab_prf.to_sql('match_preferences',engine,index=False)"
   ]
  },
  {
   "cell_type": "code",
   "execution_count": 56,
   "metadata": {
    "collapsed": true
   },
   "outputs": [],
   "source": [
    "tab_tst.to_sql('test_answers',engine,index=False)"
   ]
  },
  {
   "cell_type": "code",
   "execution_count": 57,
   "metadata": {
    "collapsed": true
   },
   "outputs": [],
   "source": [
    "tab_qn1.to_sql('question_responses1',engine,index=False)"
   ]
  },
  {
   "cell_type": "code",
   "execution_count": 58,
   "metadata": {
    "collapsed": false
   },
   "outputs": [],
   "source": [
    "tab_qn2.to_sql('question_responses2',engine,index=False)"
   ]
  },
  {
   "cell_type": "code",
   "execution_count": 59,
   "metadata": {
    "collapsed": true
   },
   "outputs": [],
   "source": [
    "tab_qn3.to_sql('question_responses3',engine,index=False)"
   ]
  },
  {
   "cell_type": "code",
   "execution_count": 60,
   "metadata": {
    "collapsed": true
   },
   "outputs": [],
   "source": [
    "tab_qn4.to_sql('question_responses4',engine,index=False)"
   ]
  },
  {
   "cell_type": "code",
   "execution_count": 61,
   "metadata": {
    "collapsed": true
   },
   "outputs": [],
   "source": [
    "tab_qn5.to_sql('question_responses5',engine,index=False)"
   ]
  }
 ],
 "metadata": {
  "anaconda-cloud": {},
  "kernelspec": {
   "display_name": "Python 3",
   "language": "python",
   "name": "python3"
  },
  "language_info": {
   "codemirror_mode": {
    "name": "ipython",
    "version": 3
   },
   "file_extension": ".py",
   "mimetype": "text/x-python",
   "name": "python",
   "nbconvert_exporter": "python",
   "pygments_lexer": "ipython3",
   "version": "3.5.1"
  }
 },
 "nbformat": 4,
 "nbformat_minor": 1
}
